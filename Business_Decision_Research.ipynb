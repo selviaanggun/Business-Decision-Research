{
  "nbformat": 4,
  "nbformat_minor": 0,
  "metadata": {
    "colab": {
      "provenance": []
    },
    "kernelspec": {
      "name": "python3",
      "display_name": "Python 3"
    },
    "language_info": {
      "name": "python"
    }
  },
  "cells": [
    {
      "cell_type": "markdown",
      "source": [
        "# IMPORTING LIBRARIES"
      ],
      "metadata": {
        "id": "6sQdGFVyLDiF"
      }
    },
    {
      "cell_type": "code",
      "execution_count": null,
      "metadata": {
        "id": "Kz2BrPv6J_pH"
      },
      "outputs": [],
      "source": [
        "import pandas as pd\n",
        "import numpy as np\n",
        "import matplotlib.pyplot as plt\n",
        "import seaborn as sns\n",
        "from sklearn.model_selection import train_test_split\n",
        "from sklearn.linear_model import LogisticRegression\n",
        "from sklearn.metrics import confusion_matrix\n",
        "from sklearn.metrics import accuracy_score, precision_score, recall_score"
      ]
    },
    {
      "cell_type": "markdown",
      "source": [
        "# IMPORTING DATA"
      ],
      "metadata": {
        "id": "kEpJ__TE6ZvA"
      }
    },
    {
      "cell_type": "code",
      "source": [
        "data = pd.read_csv('https://storage.googleapis.com/dqlab-dataset/data_retail.csv', sep=';')\n",
        "\n",
        "print('Top five data:')\n",
        "print(data.head())\n",
        "\n",
        "print('\\nDataset info:')\n",
        "print(data.info())"
      ],
      "metadata": {
        "id": "-0JaRYL3Vywu",
        "colab": {
          "base_uri": "https://localhost:8080/"
        },
        "outputId": "ffb9f139-7747-4a72-beb1-f0bb2d9e9c02"
      },
      "execution_count": null,
      "outputs": [
        {
          "output_type": "stream",
          "name": "stdout",
          "text": [
            "Top five data:\n",
            "   no  Row_Num  Customer_ID Product  First_Transaction  Last_Transaction  \\\n",
            "0   1        1        29531   Jaket      1466304274396     1538718482608   \n",
            "1   2        2        29531  Sepatu      1406077331494     1545735761270   \n",
            "2   3        3       141526     Tas      1493349147000     1548322802000   \n",
            "3   4        4       141526   Jaket      1493362372547     1547643603911   \n",
            "4   5        5        37545  Sepatu      1429178498531     1542891221530   \n",
            "\n",
            "   Average_Transaction_Amount  Count_Transaction  \n",
            "0                     1467681                 22  \n",
            "1                     1269337                 41  \n",
            "2                      310915                 30  \n",
            "3                      722632                 27  \n",
            "4                     1775036                 25  \n",
            "\n",
            "Dataset info:\n",
            "<class 'pandas.core.frame.DataFrame'>\n",
            "RangeIndex: 100000 entries, 0 to 99999\n",
            "Data columns (total 8 columns):\n",
            " #   Column                      Non-Null Count   Dtype \n",
            "---  ------                      --------------   ----- \n",
            " 0   no                          100000 non-null  int64 \n",
            " 1   Row_Num                     100000 non-null  int64 \n",
            " 2   Customer_ID                 100000 non-null  int64 \n",
            " 3   Product                     100000 non-null  object\n",
            " 4   First_Transaction           100000 non-null  int64 \n",
            " 5   Last_Transaction            100000 non-null  int64 \n",
            " 6   Average_Transaction_Amount  100000 non-null  int64 \n",
            " 7   Count_Transaction           100000 non-null  int64 \n",
            "dtypes: int64(7), object(1)\n",
            "memory usage: 6.1+ MB\n",
            "None\n"
          ]
        }
      ]
    },
    {
      "cell_type": "markdown",
      "source": [
        "# CLEANING DATA"
      ],
      "metadata": {
        "id": "pR2TvL7TGIXW"
      }
    },
    {
      "cell_type": "markdown",
      "source": [
        "## Remove Irrelevant Values"
      ],
      "metadata": {
        "id": "d10nza4iGP-M"
      }
    },
    {
      "cell_type": "code",
      "source": [
        "del data['no']\n",
        "del data['Row_Num']"
      ],
      "metadata": {
        "id": "b3WUE879GVQT"
      },
      "execution_count": null,
      "outputs": []
    },
    {
      "cell_type": "markdown",
      "source": [
        "## Convert Data Type"
      ],
      "metadata": {
        "id": "JK-ItJ10Gdoi"
      }
    },
    {
      "cell_type": "code",
      "source": [
        "# First_Transaction column\n",
        "data['First_Transaction'] = data['First_Transaction'].astype(int)\n",
        "data['First_Transaction'] = pd.to_datetime(data['First_Transaction']/1000, unit='s', origin='1970-01-01')\n",
        "# Last_Transaction column\n",
        "data['Last_Transaction'] = data['Last_Transaction'].astype(int)\n",
        "data['Last_Transaction'] = pd.to_datetime(data['Last_Transaction']/1000, unit='s', origin='1970-01-01')\n",
        "\n",
        "print('Top five data:')\n",
        "print(data.head())\n",
        "\n",
        "print('\\nDataset info:')\n",
        "print(data.info())"
      ],
      "metadata": {
        "colab": {
          "base_uri": "https://localhost:8080/"
        },
        "id": "CW1PRTkbGqP7",
        "outputId": "e4106002-5019-4e8b-fa69-17781a5947f8"
      },
      "execution_count": null,
      "outputs": [
        {
          "output_type": "stream",
          "name": "stdout",
          "text": [
            "Top five data:\n",
            "   Customer_ID Product             First_Transaction  \\\n",
            "0        29531   Jaket 2016-06-19 02:44:34.396000000   \n",
            "1        29531  Sepatu 2014-07-23 01:02:11.493999872   \n",
            "2       141526     Tas 2017-04-28 03:12:27.000000000   \n",
            "3       141526   Jaket 2017-04-28 06:52:52.546999808   \n",
            "4        37545  Sepatu 2015-04-16 10:01:38.530999808   \n",
            "\n",
            "               Last_Transaction  Average_Transaction_Amount  Count_Transaction  \n",
            "0 2018-10-05 05:48:02.608000000                     1467681                 22  \n",
            "1 2018-12-25 11:02:41.269999872                     1269337                 41  \n",
            "2 2019-01-24 09:40:02.000000000                      310915                 30  \n",
            "3 2019-01-16 13:00:03.911000064                      722632                 27  \n",
            "4 2018-11-22 12:53:41.529999872                     1775036                 25  \n",
            "\n",
            "Dataset info:\n",
            "<class 'pandas.core.frame.DataFrame'>\n",
            "RangeIndex: 100000 entries, 0 to 99999\n",
            "Data columns (total 6 columns):\n",
            " #   Column                      Non-Null Count   Dtype         \n",
            "---  ------                      --------------   -----         \n",
            " 0   Customer_ID                 100000 non-null  int64         \n",
            " 1   Product                     100000 non-null  object        \n",
            " 2   First_Transaction           100000 non-null  datetime64[ns]\n",
            " 3   Last_Transaction            100000 non-null  datetime64[ns]\n",
            " 4   Average_Transaction_Amount  100000 non-null  int64         \n",
            " 5   Count_Transaction           100000 non-null  int64         \n",
            "dtypes: datetime64[ns](2), int64(3), object(1)\n",
            "memory usage: 4.6+ MB\n",
            "None\n"
          ]
        }
      ]
    },
    {
      "cell_type": "markdown",
      "source": [
        "First_Transaction and Last_Transaction column are the date of the first and last transaction, but those columns don't have a datetime type, so we changed it into datetime type.\n"
      ],
      "metadata": {
        "id": "2wbZVU-GGvXZ"
      }
    },
    {
      "cell_type": "markdown",
      "source": [
        "# EXPLORATORY DATA ANALYSIS"
      ],
      "metadata": {
        "id": "SbDMZciAMTgR"
      }
    },
    {
      "cell_type": "markdown",
      "source": [
        "## Churn Customer"
      ],
      "metadata": {
        "id": "w-Zqfz7FGyhT"
      }
    },
    {
      "cell_type": "code",
      "source": [
        "# Checking the last transaction in dataset\n",
        "print(max(data['Last_Transaction']))\n",
        "\n",
        "# Churn customer classification with boolean\n",
        "data.loc[data['Last_Transaction'] <= '2018-08-01','is_churn'] = True \n",
        "data.loc[data['Last_Transaction'] > '2018-08-01', 'is_churn'] = False\n",
        "\n",
        "print('Top five data:')\n",
        "print(data.head())\n",
        "\n",
        "print('\\nDataset info:')\n",
        "print(data.info())"
      ],
      "metadata": {
        "colab": {
          "base_uri": "https://localhost:8080/"
        },
        "id": "WAOnhnZrG604",
        "outputId": "884c3a77-90a4-49f5-c59a-fb9d0e1b5ff8"
      },
      "execution_count": null,
      "outputs": [
        {
          "output_type": "stream",
          "name": "stdout",
          "text": [
            "2019-02-01 23:57:57.286000128\n",
            "Top five data:\n",
            "   Customer_ID Product             First_Transaction  \\\n",
            "0        29531   Jaket 2016-06-19 02:44:34.396000000   \n",
            "1        29531  Sepatu 2014-07-23 01:02:11.493999872   \n",
            "2       141526     Tas 2017-04-28 03:12:27.000000000   \n",
            "3       141526   Jaket 2017-04-28 06:52:52.546999808   \n",
            "4        37545  Sepatu 2015-04-16 10:01:38.530999808   \n",
            "\n",
            "               Last_Transaction  Average_Transaction_Amount  \\\n",
            "0 2018-10-05 05:48:02.608000000                     1467681   \n",
            "1 2018-12-25 11:02:41.269999872                     1269337   \n",
            "2 2019-01-24 09:40:02.000000000                      310915   \n",
            "3 2019-01-16 13:00:03.911000064                      722632   \n",
            "4 2018-11-22 12:53:41.529999872                     1775036   \n",
            "\n",
            "   Count_Transaction is_churn  \n",
            "0                 22    False  \n",
            "1                 41    False  \n",
            "2                 30    False  \n",
            "3                 27    False  \n",
            "4                 25    False  \n",
            "\n",
            "Dataset info:\n",
            "<class 'pandas.core.frame.DataFrame'>\n",
            "RangeIndex: 100000 entries, 0 to 99999\n",
            "Data columns (total 7 columns):\n",
            " #   Column                      Non-Null Count   Dtype         \n",
            "---  ------                      --------------   -----         \n",
            " 0   Customer_ID                 100000 non-null  int64         \n",
            " 1   Product                     100000 non-null  object        \n",
            " 2   First_Transaction           100000 non-null  datetime64[ns]\n",
            " 3   Last_Transaction            100000 non-null  datetime64[ns]\n",
            " 4   Average_Transaction_Amount  100000 non-null  int64         \n",
            " 5   Count_Transaction           100000 non-null  int64         \n",
            " 6   is_churn                    100000 non-null  object        \n",
            "dtypes: datetime64[ns](2), int64(3), object(2)\n",
            "memory usage: 5.3+ MB\n",
            "None\n"
          ]
        }
      ]
    },
    {
      "cell_type": "markdown",
      "source": [
        "Checking customer's last transaction and classification of which customers have churn status and which do not with boolean.\n",
        "*   TRUE = customer who made their last transaction less than August 1, 2018.\n",
        "*   FALSE = customer who made their last transaction more than August 1, 2018."
      ],
      "metadata": {
        "id": "7GpwtqkgILdo"
      }
    },
    {
      "cell_type": "markdown",
      "source": [
        "## Customer Acquisition by Year"
      ],
      "metadata": {
        "id": "wfYrBQlyJmeH"
      }
    },
    {
      "cell_type": "code",
      "source": [
        "# First Transaction Column\n",
        "data['Year_First_Transaction'] = data['First_Transaction'].dt.year\n",
        "# Last Transaction Column\n",
        "data['Year_Last_Transaction'] = data['Last_Transaction'].dt.year\n",
        "\n",
        "data_year = data.groupby(['Year_First_Transaction'])['Customer_ID'].count()\n",
        "data_year.plot(x='Year_First_Transaction', y='Customer_ID', kind='bar', title='Graph of Customer Acquisition')\n",
        "plt.xlabel('Year_First_Transaction')\n",
        "plt.ylabel('Num_of_Customer')\n",
        "plt.tight_layout()\n",
        "plt.show()"
      ],
      "metadata": {
        "colab": {
          "base_uri": "https://localhost:8080/",
          "height": 297
        },
        "id": "17Pyfog4S0y1",
        "outputId": "86158f2d-b276-47c5-f0f4-60b03f0420ee"
      },
      "execution_count": null,
      "outputs": [
        {
          "output_type": "display_data",
          "data": {
            "text/plain": [
              "<Figure size 432x288 with 1 Axes>"
            ],
            "image/png": "[encoded data removed]"
          },
          "metadata": {
            "needs_background": "light"
          }
        }
      ]
    },
    {
      "cell_type": "markdown",
      "source": [
        "The highest customer acquisition was in 2017 with more than 30.000 customer "
      ],
      "metadata": {
        "id": "JG94AsaF38v4"
      }
    },
    {
      "cell_type": "markdown",
      "source": [
        "## Transaction by Year"
      ],
      "metadata": {
        "id": "uRJqEY7HykL8"
      }
    },
    {
      "cell_type": "code",
      "source": [
        "plt.clf()\n",
        "data_year = data.groupby(['Year_First_Transaction'])['Count_Transaction'].sum()\n",
        "data_year.plot(x='Year_First_Transaction', y='Count_Transaction', kind='bar', title='Graph of Customer Transaction')\n",
        "plt.xlabel('Year_First_Transaction')\n",
        "plt.ylabel('Num_of_Transaction')\n",
        "plt.tight_layout()\n",
        "plt.show()"
      ],
      "metadata": {
        "colab": {
          "base_uri": "https://localhost:8080/",
          "height": 297
        },
        "id": "QL9-wzPny0WV",
        "outputId": "c4d77a5a-6612-469d-ca72-041c38950778"
      },
      "execution_count": null,
      "outputs": [
        {
          "output_type": "display_data",
          "data": {
            "text/plain": [
              "<Figure size 432x288 with 1 Axes>"
            ],
            "image/png": "[encoded data removed]"
          },
          "metadata": {
            "needs_background": "light"
          }
        }
      ]
    },
    {
      "cell_type": "markdown",
      "source": [
        "The highest customer transaction were in 2015 and 2017 with total transaction more than 300.000"
      ],
      "metadata": {
        "id": "RLxvlly55Y0p"
      }
    },
    {
      "cell_type": "markdown",
      "source": [
        "## Average Transaction Amount by Year"
      ],
      "metadata": {
        "id": "Ov1qfXaYzaTA"
      }
    },
    {
      "cell_type": "code",
      "source": [
        "plt.clf()\n",
        "sns.pointplot(data = data.groupby(['Product', 'Year_First_Transaction']).mean().reset_index(),\n",
        "\t\t\t  x='Year_First_Transaction',\n",
        "\t\t\t  y='Average_Transaction_Amount',\n",
        "\t\t\t  hue='Product')\n",
        "plt.tight_layout()\n",
        "plt.show()"
      ],
      "metadata": {
        "colab": {
          "base_uri": "https://localhost:8080/",
          "height": 297
        },
        "id": "Y6Gl2DNvzDdg",
        "outputId": "9c957c6f-4954-4499-a00f-92a6a72fc209"
      },
      "execution_count": null,
      "outputs": [
        {
          "output_type": "display_data",
          "data": {
            "text/plain": [
              "<Figure size 432x288 with 1 Axes>"
            ],
            "image/png": "[encoded data removed]"
          },
          "metadata": {
            "needs_background": "light"
          }
        }
      ]
    },
    {
      "cell_type": "markdown",
      "source": [
        "## Proportion of Churn Customer for Each Product"
      ],
      "metadata": {
        "id": "MIP04nW-z2Fq"
      }
    },
    {
      "cell_type": "code",
      "source": [
        "plt.clf()\n",
        "\n",
        "# Create data pivots\n",
        "data_piv = data.pivot_table(index='is_churn',\n",
        "\t\t\t\t\t\tcolumns='Product',\n",
        "\t\t\t\t\t\tvalues='Customer_ID',\n",
        "\t\t\t\t\t\taggfunc='count',\n",
        "\t\t\t\t\t\tfill_value=0)\n",
        "\n",
        "# Proportion of churn by product\n",
        "plot_product = data_piv.count().sort_values(ascending=False).head(5).index\n",
        "\n",
        "# Pie chart\n",
        "data_piv = data_piv.reindex(columns=plot_product)\n",
        "data_piv.plot.pie(subplots=True,\n",
        "\t\t\t\tfigsize=(10, 7),\n",
        "\t\t\t\tlayout=(-1, 2),\n",
        "\t\t\t\tautopct='%1.0f%%',\n",
        "\t\t\t\ttitle='Proportion of Churn by Product')\n",
        "plt.tight_layout()\n",
        "plt.show()"
      ],
      "metadata": {
        "colab": {
          "base_uri": "https://localhost:8080/",
          "height": 531
        },
        "id": "K0iT-4_x1U2Z",
        "outputId": "42fdd1cf-507b-4ed3-a18c-fd5e83446e59"
      },
      "execution_count": null,
      "outputs": [
        {
          "output_type": "display_data",
          "data": {
            "text/plain": [
              "<Figure size 432x288 with 0 Axes>"
            ]
          },
          "metadata": {}
        },
        {
          "output_type": "display_data",
          "data": {
            "text/plain": [
              "<Figure size 720x504 with 4 Axes>"
            ],
            "image/png": "[encoded data removed]"
          },
          "metadata": {}
        }
      ]
    },
    {
      "cell_type": "markdown",
      "source": [
        "## Customer Distribution by Count Transaction"
      ],
      "metadata": {
        "id": "B1JGLzx93fC1"
      }
    },
    {
      "cell_type": "code",
      "source": [
        "plt.clf()\n",
        "\n",
        "# Categorization the number of transactions\n",
        "def func(row):\n",
        "\tif row['Count_Transaction'] == 1:\n",
        "\t\tval = '1. 1'\n",
        "\telif (row['Count_Transaction'] >1 and row['Count_Transaction'] <= 3):\n",
        "\t\tval ='2. 2 - 3'\n",
        "\telif (row['Count_Transaction'] >3 and row['Count_Transaction'] <= 6):\n",
        "\t\tval ='3. 4 - 6'\n",
        "\telif (row['Count_Transaction'] >6 and row['Count_Transaction'] <= 10):\n",
        "\t\tval ='4. 7 - 10'\n",
        "\telse:\n",
        "\t\tval ='5. >10'\n",
        "\treturn val\n",
        "\n",
        "# Adding new column\n",
        "data['Count_Transaction_Group'] = data.apply(func, axis=1)\n",
        "data_year = data.groupby(['Count_Transaction_Group'])['Customer_ID'].count()\n",
        "data_year.plot(x='Count_Transaction_Group', y='Customer_ID', kind='bar', title='Customer Distribution by Count Transaction Group')\n",
        "plt.xlabel('Count_Transaction_Group')\n",
        "plt.ylabel('Num_of_Customer')\n",
        "plt.tight_layout()\n",
        "plt.show()"
      ],
      "metadata": {
        "colab": {
          "base_uri": "https://localhost:8080/",
          "height": 297
        },
        "id": "ZCBPuVgO6aXR",
        "outputId": "7f7d94a3-2d54-403a-88ad-91c69422e0e1"
      },
      "execution_count": null,
      "outputs": [
        {
          "output_type": "display_data",
          "data": {
            "text/plain": [
              "<Figure size 432x288 with 1 Axes>"
            ],
            "image/png": "[encoded data removed]"
          },
          "metadata": {
            "needs_background": "light"
          }
        }
      ]
    },
    {
      "cell_type": "markdown",
      "source": [
        "It can be seen that almost 50.000 customers only made 1 transaction."
      ],
      "metadata": {
        "id": "Y4Oam2t5D09W"
      }
    },
    {
      "cell_type": "markdown",
      "source": [
        "## Customer Distribution by Average Transaction Amount"
      ],
      "metadata": {
        "id": "FUv_cJDo8ZD5"
      }
    },
    {
      "cell_type": "code",
      "source": [
        "plt.clf()\n",
        "\n",
        "# Average Transaction Amount Categories\n",
        "def f(row):\n",
        "\tif (row['Average_Transaction_Amount'] >= 100000 and row['Average_Transaction_Amount'] <=250000):\n",
        "\t\tval ='1. 100.000 - 250.000'\n",
        "\telif (row['Average_Transaction_Amount'] >250000 and row['Average_Transaction_Amount'] <= 500000):\n",
        "\t\tval ='2. >250.000 - 500.000'\n",
        "\telif (row['Average_Transaction_Amount'] >500000 and row['Average_Transaction_Amount'] <= 750000):\n",
        "\t\tval ='3. >500.000 - 750.000'\n",
        "\telif (row['Average_Transaction_Amount'] >750000 and row['Average_Transaction_Amount'] <= 1000000):\n",
        "\t\tval ='4. >750.000 - 1.000.000'\n",
        "\telif (row['Average_Transaction_Amount'] >1000000 and row['Average_Transaction_Amount'] <= 2500000):\n",
        "\t\tval ='5. >1.000.000 - 2.500.000'\n",
        "\telif (row['Average_Transaction_Amount'] >2500000 and row['Average_Transaction_Amount'] <= 5000000):\n",
        "\t\tval ='6. >2.500.000 - 5.000.000'\n",
        "\telif (row['Average_Transaction_Amount'] >5000000 and row['Average_Transaction_Amount'] <= 10000000):\n",
        "\t\tval ='7. >5.000.000 - 10.000.000'\n",
        "\telse:\n",
        "\t\tval ='8. >10.000.000'\n",
        "\treturn val\n",
        "\n",
        "# Add new column\n",
        "data['Average_Transaction_Amount_Group'] = data.apply(f, axis=1)\n",
        "data_year = data.groupby(['Average_Transaction_Amount_Group'])['Customer_ID'].count()\n",
        "data_year.plot(x='Average_Transaction_Amount_Group', y='Customer_ID',kind='bar', title='Customer Distribution by Average Transaction Amount Group')\n",
        "plt.xlabel('Average_Transaction_Amount_Group')\n",
        "plt.ylabel('Num_of_Customer')\n",
        "plt.tight_layout()\n",
        "plt.show()"
      ],
      "metadata": {
        "colab": {
          "base_uri": "https://localhost:8080/",
          "height": 297
        },
        "id": "Esei3wEw8viy",
        "outputId": "879c3cb5-9738-4113-b5c8-689128576687"
      },
      "execution_count": null,
      "outputs": [
        {
          "output_type": "display_data",
          "data": {
            "text/plain": [
              "<Figure size 432x288 with 1 Axes>"
            ],
            "image/png": "[encoded data removed]"
          },
          "metadata": {
            "needs_background": "light"
          }
        }
      ]
    },
    {
      "cell_type": "markdown",
      "source": [
        "It can be seen more than 30.000 customer made an average transaction amount around 1.000.000 to 2.500.000"
      ],
      "metadata": {
        "id": "yuh0mkKMFJ_Y"
      }
    },
    {
      "cell_type": "markdown",
      "source": [
        "## Feature Column and Target"
      ],
      "metadata": {
        "id": "4yEFz_xt9XYi"
      }
    },
    {
      "cell_type": "code",
      "source": [
        "# Feature column: Year_Diff\n",
        "data['Year_Diff']=data['Year_Last_Transaction']-data['Year_First_Transaction']\n",
        "\n",
        "# feature columns\n",
        "feature_columns = ['Average_Transaction_Amount', 'Count_Transaction', 'Year_Diff']\n",
        "\n",
        "# Features variable\n",
        "X = data[feature_columns]\n",
        "\n",
        "# Target variable\n",
        "y = data['is_churn']"
      ],
      "metadata": {
        "id": "rJlQuOre9iKu"
      },
      "execution_count": null,
      "outputs": []
    },
    {
      "cell_type": "markdown",
      "source": [
        "## Split X and Y for Training and Testing"
      ],
      "metadata": {
        "id": "Q2FpJo5W9-T7"
      }
    },
    {
      "cell_type": "code",
      "source": [
        "X_train, X_test, y_train, y_test = train_test_split(X, y, test_size=0.25, random_state=0)\n",
        "y_train = y_train.astype(int)\n",
        "y_test = y_test.astype(int)"
      ],
      "metadata": {
        "id": "_tAuBierNB_W"
      },
      "execution_count": null,
      "outputs": []
    },
    {
      "cell_type": "markdown",
      "source": [
        "## Train, Predict, and Evaluate"
      ],
      "metadata": {
        "id": "rCWYLVco-xCd"
      }
    },
    {
      "cell_type": "code",
      "source": [
        "# Logistic Regression model initiation\n",
        "logreg = LogisticRegression()\n",
        "\n",
        "# Fit the model with data\n",
        "logreg.fit(X_train, y_train)\n",
        "\n",
        "# Prediction model\n",
        "y_pred = logreg.predict(X_test)\n",
        "\n",
        "# Evaluation model using confusion matrix\n",
        "cnf_matrix = confusion_matrix(y_test, y_pred)\n",
        "print('Confusion Matrix:\\n', cnf_matrix)"
      ],
      "metadata": {
        "colab": {
          "base_uri": "https://localhost:8080/"
        },
        "id": "Lpl3BW6q-2A1",
        "outputId": "dcbbde77-caa9-4e06-b43a-af1abccdcfd5"
      },
      "execution_count": null,
      "outputs": [
        {
          "output_type": "stream",
          "name": "stdout",
          "text": [
            "Confusion Matrix:\n",
            " [[    1  8330]\n",
            " [    3 16666]]\n"
          ]
        }
      ]
    },
    {
      "cell_type": "markdown",
      "source": [
        "## Confusion Matrix Visualization"
      ],
      "metadata": {
        "id": "b7bvjuUYBKl_"
      }
    },
    {
      "cell_type": "code",
      "source": [
        "plt.clf()\n",
        "\n",
        "# name of classes\n",
        "class_names = [0, 1]\n",
        "fig, ax = plt.subplots()\n",
        "tick_marks = np.arange(len(class_names))\n",
        "plt.xticks(tick_marks, class_names)\n",
        "plt.yticks(tick_marks, class_names)\n",
        "\n",
        "# create heatmap\n",
        "sns.heatmap(pd.DataFrame(cnf_matrix), annot=True, cmap='YlGnBu', fmt='g')\n",
        "ax.xaxis.set_label_position('top')\n",
        "plt.title('Confusion matrix', y=1.1)\n",
        "plt.ylabel('Actual')\n",
        "plt.xlabel('Predicted')\n",
        "plt.tight_layout()\n",
        "plt.show()"
      ],
      "metadata": {
        "id": "Ei774eTTBIMh",
        "colab": {
          "base_uri": "https://localhost:8080/",
          "height": 314
        },
        "outputId": "cf1c7dfb-105d-4783-f250-edef0ee7f86c"
      },
      "execution_count": null,
      "outputs": [
        {
          "output_type": "display_data",
          "data": {
            "text/plain": [
              "<Figure size 432x288 with 0 Axes>"
            ]
          },
          "metadata": {}
        },
        {
          "output_type": "display_data",
          "data": {
            "text/plain": [
              "<Figure size 432x288 with 2 Axes>"
            ],
            "image/png": "[encoded data removed]"
          },
          "metadata": {
            "needs_background": "light"
          }
        }
      ]
    },
    {
      "cell_type": "markdown",
      "source": [
        "The result is telling us that we have 1+16666 correct prediction and 3+8330 incorrect prediction."
      ],
      "metadata": {
        "id": "EHp9X8nE4sMD"
      }
    },
    {
      "cell_type": "markdown",
      "source": [
        "## Accuracy, Presicion, and Recall"
      ],
      "metadata": {
        "id": "VGekFSbBBWQv"
      }
    },
    {
      "cell_type": "code",
      "source": [
        "print('Accuracy :', accuracy_score(y_test, y_pred))\n",
        "print('Precision:', precision_score(y_test, y_pred, average='micro'))\n",
        "print('Recall :', recall_score(y_test, y_pred, average='micro'))"
      ],
      "metadata": {
        "id": "Tnsi3YcQBczF",
        "colab": {
          "base_uri": "https://localhost:8080/"
        },
        "outputId": "aae9a6e8-0b39-492c-cfce-86892857945a"
      },
      "execution_count": null,
      "outputs": [
        {
          "output_type": "stream",
          "name": "stdout",
          "text": [
            "Accuracy : 0.66668\n",
            "Precision: 0.66668\n",
            "Recall : 0.66668\n"
          ]
        }
      ]
    },
    {
      "cell_type": "markdown",
      "source": [
        "From the results above, we can say that:\n",
        "*   66.7% the model correctly performs the overall classification\n",
        "*   66.7% the model good at predicting a specific category\n",
        "*   66.7% the model able to detect a spesific category\n",
        "\n",
        "\n",
        "\n"
      ],
      "metadata": {
        "id": "kBXURNj3wulb"
      }
    }
  ]
}